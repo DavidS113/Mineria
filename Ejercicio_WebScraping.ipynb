{
  "cells": [
    {
      "cell_type": "code",
      "execution_count": null,
      "id": "87e8dbaf",
      "metadata": {
        "id": "87e8dbaf"
      },
      "outputs": [],
      "source": [
        "#Importacion de las librerias\n",
        "import requests\n",
        "from bs4 import BeautifulSoup\n",
        "\n",
        "#URL de la pagina sobre la que vamos a trabajar\n",
        "url = 'https://www.datosmundial.com/america/mexico/crecimiento-poblacional.php'\n",
        "\n",
        "#Creacion de la variable response que servira para añadir la URL\n",
        "response = requests.get(url)\n",
        "\n",
        "#Creacion de la variable soup que serivira para obtner la informacion de la URL\n",
        "soup = BeautifulSoup(response.text, 'html.parser')\n",
        "\n",
        "#Creacion de la variable tabla, que servira como estructura principal de los datos extraidos\n",
        "tabla = soup.find('table', class_='std100')\n",
        "filas = tabla.find_all('tr')[1:]\n",
        "\n",
        "#Ciclo for que nos ayudara a darle un acomodo a cada una de las partes de la tabla.\n",
        "for fila in filas:\n",
        "    datos = fila.find_all('td')\n",
        "    año = datos[0].get_text()\n",
        "    Poblacion = datos[1].get_text()\n",
        "    Cambio = datos[2].get_text()\n",
        "    natalidad = datos[3].get_text()\n",
        "    TasaM = datos[4].get_text()\n",
        "    print(f'Año: {año}, Población: {Poblacion} , Cambio {Cambio}, Tasa de natalidad {natalidad}, Tasa de muerte {TasaM} ' )"
      ]
    },
    {
      "cell_type": "markdown",
      "source": [
        "#Concluicion\n",
        "Latecnica de WebScraping es un metodo de extraccion de informacion muy versatil e interezante, ya que nos permite extraer informacion de  manera mas facil sin necesidad de hacerlo manuelamnete, si bine es cierto que es una gran desventaja el solo poder hacerlo sobre tablas al final resulta en ser una herramienta facil de utilizar y con mucho potencial."
      ],
      "metadata": {
        "id": "2p__39LiaSVx"
      },
      "id": "2p__39LiaSVx"
    }
  ],
  "metadata": {
    "kernelspec": {
      "display_name": "Python 3 (ipykernel)",
      "language": "python",
      "name": "python3"
    },
    "language_info": {
      "codemirror_mode": {
        "name": "ipython",
        "version": 3
      },
      "file_extension": ".py",
      "mimetype": "text/x-python",
      "name": "python",
      "nbconvert_exporter": "python",
      "pygments_lexer": "ipython3",
      "version": "3.10.9"
    },
    "colab": {
      "provenance": []
    }
  },
  "nbformat": 4,
  "nbformat_minor": 5
}